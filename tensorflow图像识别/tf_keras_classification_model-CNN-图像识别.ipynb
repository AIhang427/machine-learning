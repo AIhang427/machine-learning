{
 "cells": [
  {
   "cell_type": "code",
   "execution_count": 1,
   "metadata": {},
   "outputs": [
    {
     "name": "stdout",
     "output_type": "stream",
     "text": [
      "2.0.0\n",
      "sys.version_info(major=3, minor=7, micro=3, releaselevel='final', serial=0)\n",
      "matplotlib 3.0.3\n",
      "numpy 1.18.1\n",
      "pandas 0.24.2\n",
      "sklearn 0.20.3\n",
      "tensorflow 2.0.0\n",
      "tensorflow_core.keras 2.2.4-tf\n"
     ]
    }
   ],
   "source": [
    "import matplotlib as mpl #画图\n",
    "import matplotlib.pyplot as plt\n",
    "import sklearn\n",
    "import numpy as np\n",
    "import os\n",
    "import sys\n",
    "import time\n",
    "import tensorflow as tf\n",
    "import pandas as pd\n",
    "from tensorflow import keras\n",
    "\n",
    "print(tf.__version__)\n",
    "print(sys.version_info)\n",
    "for module in mpl, np, pd, sklearn, tf, keras:\n",
    "    print(module.__name__, module.__version__)"
   ]
  },
  {
   "cell_type": "code",
   "execution_count": 2,
   "metadata": {},
   "outputs": [
    {
     "name": "stdout",
     "output_type": "stream",
     "text": [
      "(5000, 28, 28) (5000,)\n",
      "(55000, 28, 28) (55000,)\n",
      "(10000, 28, 28) (10000,)\n"
     ]
    }
   ],
   "source": [
    "fashion_mnist = keras.datasets.fashion_mnist\n",
    "(x_train_all, y_train_all),(x_test, y_test) = fashion_mnist.load_data()\n",
    "x_valid ,x_train = x_train_all[:5000], x_train_all[5000:]\n",
    "y_valid, y_train = y_train_all[:5000], y_train_all[5000:]\n",
    "print(x_valid.shape, y_valid.shape)\n",
    "print(x_train.shape, y_train.shape)\n",
    "print(x_test.shape, y_test.shape)"
   ]
  },
  {
   "cell_type": "code",
   "execution_count": 3,
   "metadata": {},
   "outputs": [
    {
     "data": {
      "image/png": "[encoded data removed]",
      "text/plain": [
       "<Figure size 432x288 with 1 Axes>"
      ]
     },
     "metadata": {
      "needs_background": "light"
     },
     "output_type": "display_data"
    }
   ],
   "source": [
    "def show_single_img(img_arr):\n",
    "    plt.imshow(img_arr, cmap='gray')\n",
    "    plt.show()\n",
    "show_single_img(x_valid[0])"
   ]
  },
  {
   "cell_type": "code",
   "execution_count": 4,
   "metadata": {},
   "outputs": [],
   "source": [
    "from sklearn.preprocessing import StandardScaler\n",
    "scaler = StandardScaler()\n",
    "x_train_scaled = scaler.fit_transform( # fit的意思是把这个过程中所有的均值和方差记录下来。\n",
    "    # (数量, 28, 28, 维度)\n",
    "    x_train.astype(np.float32).reshape(-1,1)).reshape(-1,28,28,1)\n",
    "x_valid_scaled = scaler.transform(\n",
    "    x_valid.astype(np.float32).reshape(-1,1)).reshape(-1,28,28,1)\n",
    "x_test_scaled = scaler.transform(\n",
    "    x_test.astype(np.float32).reshape(-1,1)).reshape(-1,28,28,1)"
   ]
  },
  {
   "cell_type": "code",
   "execution_count": 5,
   "metadata": {},
   "outputs": [],
   "source": [
    "model = keras.models.Sequential()\n",
    "model.add(keras.layers.Conv2D(filters = 32, kernel_size = 3,\n",
    "                             padding = 'same',\n",
    "                             activation = 'relu',\n",
    "                             input_shape = (28, 28, 1)))\n",
    "model.add(keras.layers.Conv2D(filters = 32, kernel_size = 3,\n",
    "                             padding = 'same',\n",
    "                             activation = 'relu'))\n",
    "model.add(keras.layers.MaxPool2D(pool_size = 2))\n",
    "model.add(keras.layers.Conv2D(filters = 64, kernel_size = 3,\n",
    "                             padding = 'same',\n",
    "                             activation = 'relu'))\n",
    "model.add(keras.layers.MaxPool2D(pool_size = 2))\n",
    "model.add(keras.layers.Conv2D(filters = 128, kernel_size = 3,\n",
    "                             padding = 'same',\n",
    "                             activation = 'relu'))\n",
    "model.add(keras.layers.MaxPool2D(pool_size = 2))\n",
    "model.add(keras.layers.Conv2D(filters = 128, kernel_size = 3,\n",
    "                             padding = 'same',\n",
    "                             activation = 'relu'))\n",
    "model.add(keras.layers.MaxPool2D(pool_size = 2))\n",
    "# 在连接全连接层之前/做一个flatten\n",
    "model.add(keras.layers.Flatten())\n",
    "\n",
    "model.add(keras.layers.Dense(10, activation = \"softmax\"))\n",
    "model.compile(loss = \"sparse_categorical_crossentropy\", \n",
    "             optimizer = \"sgd\",\n",
    "             metrics = [\"accuracy\"])# 衡量的一个指标<各类召回率的算术平均值>"
   ]
  },
  {
   "cell_type": "code",
   "execution_count": 6,
   "metadata": {},
   "outputs": [
    {
     "name": "stdout",
     "output_type": "stream",
     "text": [
      "Model: \"sequential\"\n",
      "_________________________________________________________________\n",
      "Layer (type)                 Output Shape              Param #   \n",
      "=================================================================\n",
      "conv2d (Conv2D)              (None, 28, 28, 32)        320       \n",
      "_________________________________________________________________\n",
      "conv2d_1 (Conv2D)            (None, 28, 28, 32)        9248      \n",
      "_________________________________________________________________\n",
      "max_pooling2d (MaxPooling2D) (None, 14, 14, 32)        0         \n",
      "_________________________________________________________________\n",
      "conv2d_2 (Conv2D)            (None, 14, 14, 64)        18496     \n",
      "_________________________________________________________________\n",
      "max_pooling2d_1 (MaxPooling2 (None, 7, 7, 64)          0         \n",
      "_________________________________________________________________\n",
      "conv2d_3 (Conv2D)            (None, 7, 7, 128)         73856     \n",
      "_________________________________________________________________\n",
      "max_pooling2d_2 (MaxPooling2 (None, 3, 3, 128)         0         \n",
      "_________________________________________________________________\n",
      "conv2d_4 (Conv2D)            (None, 3, 3, 128)         147584    \n",
      "_________________________________________________________________\n",
      "max_pooling2d_3 (MaxPooling2 (None, 1, 1, 128)         0         \n",
      "_________________________________________________________________\n",
      "flatten (Flatten)            (None, 128)               0         \n",
      "_________________________________________________________________\n",
      "dense (Dense)                (None, 10)                1290      \n",
      "=================================================================\n",
      "Total params: 250,794\n",
      "Trainable params: 250,794\n",
      "Non-trainable params: 0\n",
      "_________________________________________________________________\n"
     ]
    }
   ],
   "source": [
    "model.summary()"
   ]
  },
  {
   "cell_type": "code",
   "execution_count": 7,
   "metadata": {},
   "outputs": [
    {
     "name": "stdout",
     "output_type": "stream",
     "text": [
      "Train on 55000 samples, validate on 5000 samples\n",
      "Epoch 1/10\n",
      "55000/55000 [==============================] - 25s 449us/sample - loss: 0.8022 - accuracy: 0.7159 - val_loss: 0.4828 - val_accuracy: 0.8344\n",
      "Epoch 2/10\n",
      "55000/55000 [==============================] - 11s 205us/sample - loss: 0.4334 - accuracy: 0.8421 - val_loss: 0.3668 - val_accuracy: 0.8664\n",
      "Epoch 3/10\n",
      "55000/55000 [==============================] - 11s 205us/sample - loss: 0.3629 - accuracy: 0.8682 - val_loss: 0.3279 - val_accuracy: 0.8810\n",
      "Epoch 4/10\n",
      "55000/55000 [==============================] - 11s 206us/sample - loss: 0.3264 - accuracy: 0.8812 - val_loss: 0.3154 - val_accuracy: 0.8808\n",
      "Epoch 5/10\n",
      "55000/55000 [==============================] - 11s 207us/sample - loss: 0.2987 - accuracy: 0.8910 - val_loss: 0.3050 - val_accuracy: 0.8872\n",
      "Epoch 6/10\n",
      "55000/55000 [==============================] - 11s 205us/sample - loss: 0.2800 - accuracy: 0.8975 - val_loss: 0.2836 - val_accuracy: 0.8950\n",
      "Epoch 7/10\n",
      "55000/55000 [==============================] - 11s 206us/sample - loss: 0.2628 - accuracy: 0.9028 - val_loss: 0.3049 - val_accuracy: 0.8870\n",
      "Epoch 8/10\n",
      "55000/55000 [==============================] - 11s 207us/sample - loss: 0.2481 - accuracy: 0.9095 - val_loss: 0.2709 - val_accuracy: 0.8978\n",
      "Epoch 9/10\n",
      "55000/55000 [==============================] - 11s 206us/sample - loss: 0.2345 - accuracy: 0.9145 - val_loss: 0.3153 - val_accuracy: 0.8860\n",
      "Epoch 10/10\n",
      "55000/55000 [==============================] - 11s 206us/sample - loss: 0.2231 - accuracy: 0.9182 - val_loss: 0.2631 - val_accuracy: 0.8982\n"
     ]
    }
   ],
   "source": [
    "# logdir = '.\\cnn-callbacks'\n",
    "# if not os.path.exists(logdir):\n",
    "#     os.mkdir(logdir)\n",
    "# output_model_file = os.path.abspath(os.path.join(logdir,\"fashion_mnist_model.h5\"))\n",
    "# callbacks = [\n",
    "#     keras.callbacks.TensorBoard(logdir),# 保留训练过程中各个参数的变化曲线，例如损失函数的变化曲线。以及保留模型结构图。\n",
    "#     keras.callbacks.ModelCheckpoint(output_model_file,\n",
    "#                                    save_best_only = True) #设置保留模型。保留最佳模型\n",
    "# ]\n",
    "history = model.fit(x_train_scaled, y_train, epochs=10,\n",
    "            validation_data=(x_valid_scaled, y_valid))"
   ]
  },
  {
   "cell_type": "code",
   "execution_count": 8,
   "metadata": {
    "scrolled": true
   },
   "outputs": [
    {
     "data": {
      "image/png": "[encoded data removed]",
      "text/plain": [
       "<Figure size 576x360 with 1 Axes>"
      ]
     },
     "metadata": {
      "needs_background": "light"
     },
     "output_type": "display_data"
    }
   ],
   "source": [
    "def plot_learning_curves(history):\n",
    "    pd.DataFrame(history.history).plot(figsize=(8,5))\n",
    "    plt.grid(True) \n",
    "    plt.gca().set_ylim(0, 1) \n",
    "    plt.show()\n",
    "plot_learning_curves(history)"
   ]
  }
 ],
 "metadata": {
  "kernelspec": {
   "display_name": "Python 3",
   "language": "python",
   "name": "python3"
  },
  "language_info": {
   "codemirror_mode": {
    "name": "ipython",
    "version": 3
   },
   "file_extension": ".py",
   "mimetype": "text/x-python",
   "name": "python",
   "nbconvert_exporter": "python",
   "pygments_lexer": "ipython3",
   "version": "3.7.3"
  }
 },
 "nbformat": 4,
 "nbformat_minor": 2
}
