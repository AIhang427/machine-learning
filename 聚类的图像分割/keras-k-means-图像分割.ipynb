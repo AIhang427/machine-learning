{
 "cells": [
  {
   "cell_type": "code",
   "execution_count": 2,
   "metadata": {},
   "outputs": [],
   "source": [
    "import numpy as np\n",
    "from PIL import Image as image\n",
    "#加载PIL包，用于加载创建图片\n",
    "from sklearn.cluster import KMeans#加载Kmeans算法"
   ]
  },
  {
   "cell_type": "code",
   "execution_count": 3,
   "metadata": {},
   "outputs": [],
   "source": [
    "def loadData(filePath):\n",
    "    f = open(filePath,'rb') #以二进制形式打开文件\n",
    "    data= []\n",
    "    img =image.open(f)#以列表形式返回图片像素值\n",
    "    m,n =img.size     #获得图片大小\n",
    "    for i in range(m):\n",
    "        for j in range(n):\n",
    "            #将每个像素点RGB颜色处理到0-1范围内\n",
    "            x,y,z =img.getpixel((i,j))\n",
    "            #将颜色值存入data内\n",
    "            data.append([x/256.0,y/256.0,z/256.0])\n",
    "    f.close()\n",
    "    #以矩阵的形式返回data，以及图片大小\n",
    "    return np.mat(data),m,n\n",
    "imgData,row,col =loadData('test.jpg')#加载数据\n",
    "\n",
    "km=KMeans(n_clusters=3)\n",
    "#聚类获得每个像素所属的类别\n",
    "label =km.fit_predict(imgData)\n",
    "label=label.reshape([row,col])\n",
    "#创建一张新的灰度图以保存聚类后的结果\n",
    "pic_new = image.new(\"L\",(row,col))\n",
    "#根据类别向图片中添加灰度值\n",
    "for i in range(row):\n",
    "    for j in range(col):\n",
    "        pic_new.putpixel((i,j),int(256/(label[i][j]+1)))\n",
    "#以JPEG格式保存图像\n",
    "pic_new.save(\"result.jpg\",\"JPEG\")"
   ]
  },
  {
   "cell_type": "code",
   "execution_count": null,
   "metadata": {},
   "outputs": [],
   "source": []
  }
 ],
 "metadata": {
  "kernelspec": {
   "display_name": "Python 3",
   "language": "python",
   "name": "python3"
  },
  "language_info": {
   "codemirror_mode": {
    "name": "ipython",
    "version": 3
   },
   "file_extension": ".py",
   "mimetype": "text/x-python",
   "name": "python",
   "nbconvert_exporter": "python",
   "pygments_lexer": "ipython3",
   "version": "3.7.3"
  }
 },
 "nbformat": 4,
 "nbformat_minor": 2
}
