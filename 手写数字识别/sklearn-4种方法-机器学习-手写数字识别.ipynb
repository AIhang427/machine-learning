{
 "cells": [
  {
   "cell_type": "code",
   "execution_count": 5,
   "metadata": {},
   "outputs": [],
   "source": [
    "from sklearn.model_selection import train_test_split\n",
    "from sklearn.ensemble import ExtraTreesClassifier, GradientBoostingClassifier,BaggingClassifier,RandomForestClassifier\n",
    "from sklearn.metrics import accuracy_score, make_scorer\n",
    "from sklearn.datasets import load_digits\n",
    "from sklearn.preprocessing import StandardScaler\n",
    "from sklearn.model_selection import GridSearchCV"
   ]
  },
  {
   "cell_type": "code",
   "execution_count": 2,
   "metadata": {},
   "outputs": [
    {
     "name": "stdout",
     "output_type": "stream",
     "text": [
      "(1797, 64)\n",
      "(1797,)\n"
     ]
    }
   ],
   "source": [
    "digits = load_digits()\n",
    "x_data_all = digits.data\n",
    "y_data_all  = digits.target\n",
    "print(x_data_all.shape)\n",
    "print(y_data_all.shape)"
   ]
  },
  {
   "cell_type": "code",
   "execution_count": 8,
   "metadata": {},
   "outputs": [],
   "source": [
    "# 划分数据集\n",
    "x_train_all, x_test, y_train_all, y_test = train_test_split(\n",
    "                x_data_all, y_data_all, random_state = 7\n",
    ")"
   ]
  },
  {
   "cell_type": "code",
   "execution_count": 9,
   "metadata": {},
   "outputs": [],
   "source": [
    "# 归一化\n",
    "scaler = StandardScaler()\n",
    "x_train_scaled = scaler.fit_transform(x_train_all)\n",
    "x_test_scaled = scaler.transform(x_test)"
   ]
  },
  {
   "cell_type": "markdown",
   "metadata": {},
   "source": [
    "# 随机森林识别"
   ]
  },
  {
   "cell_type": "code",
   "execution_count": 7,
   "metadata": {},
   "outputs": [],
   "source": [
    "clf = RandomForestClassifier()\n",
    "parameters = {\n",
    "    'n_estimators': [9,10,11],\n",
    "    'criterion': ['entropy', 'gini'],\n",
    "    'min_samples_split':[2,3,4]\n",
    "}"
   ]
  },
  {
   "cell_type": "code",
   "execution_count": 10,
   "metadata": {},
   "outputs": [],
   "source": [
    "acc_scorer = make_scorer(accuracy_score)\n",
    "grid_obj = GridSearchCV(clf, parameters, scoring= acc_scorer, cv=5)\n",
    "grid = grid_obj.fit(x_train_scaled, y_train_all)"
   ]
  },
  {
   "cell_type": "code",
   "execution_count": 12,
   "metadata": {},
   "outputs": [
    {
     "name": "stdout",
     "output_type": "stream",
     "text": [
      "测试集的准确率：0.9444444444444444\n"
     ]
    }
   ],
   "source": [
    "clf = grid.best_estimator_\n",
    "clf = clf.fit(x_train_scaled, y_train_all)\n",
    "test_prediction  = clf.predict(x_test_scaled)\n",
    "print(\"测试集的准确率：%s\" % accuracy_score(y_test, test_prediction))"
   ]
  },
  {
   "cell_type": "markdown",
   "metadata": {},
   "source": [
    "# 极限随机树"
   ]
  },
  {
   "cell_type": "code",
   "execution_count": 13,
   "metadata": {},
   "outputs": [],
   "source": [
    "clf_1 = ExtraTreesClassifier()"
   ]
  },
  {
   "cell_type": "code",
   "execution_count": 16,
   "metadata": {},
   "outputs": [],
   "source": [
    "acc_scorer_1 = make_scorer(accuracy_score)\n",
    "grid_obj_1 = GridSearchCV(clf_1, parameters, scoring= acc_scorer, cv=6)\n",
    "grid_1 = grid_obj_1.fit(x_train_scaled, y_train_all)"
   ]
  },
  {
   "cell_type": "code",
   "execution_count": 17,
   "metadata": {},
   "outputs": [
    {
     "name": "stdout",
     "output_type": "stream",
     "text": [
      "测试集的准确率：0.9466666666666667\n"
     ]
    }
   ],
   "source": [
    "clf_1 = grid_1.best_estimator_\n",
    "clf_1 = clf_1.fit(x_train_scaled, y_train_all)\n",
    "test_prediction_1  = clf_1.predict(x_test_scaled)\n",
    "print(\"测试集的准确率：%s\" % accuracy_score(y_test, test_prediction_1))"
   ]
  },
  {
   "cell_type": "markdown",
   "metadata": {},
   "source": [
    "# 梯度提升树"
   ]
  },
  {
   "cell_type": "code",
   "execution_count": 19,
   "metadata": {},
   "outputs": [],
   "source": [
    "clf_2 = GradientBoostingClassifier()\n",
    "parameters = {\n",
    "    'n_estimators': [9,10,11],\n",
    "    'min_samples_split':[2,3,4]\n",
    "}\n",
    "acc_scorer_2 = make_scorer(accuracy_score)\n",
    "grid_obj_2 = GridSearchCV(clf_2, parameters, scoring= acc_scorer, cv=6)\n",
    "grid_2 = grid_obj_2.fit(x_train_scaled, y_train_all)"
   ]
  },
  {
   "cell_type": "code",
   "execution_count": 20,
   "metadata": {},
   "outputs": [
    {
     "name": "stdout",
     "output_type": "stream",
     "text": [
      "测试集的准确率：0.9\n"
     ]
    }
   ],
   "source": [
    "clf_2 = grid_2.best_estimator_\n",
    "clf_2 = clf_2.fit(x_train_scaled, y_train_all)\n",
    "test_prediction_2  = clf_2.predict(x_test_scaled)\n",
    "print(\"测试集的准确率：%s\" % accuracy_score(y_test, test_prediction_2))"
   ]
  },
  {
   "cell_type": "markdown",
   "metadata": {},
   "source": [
    "# BaggingClassifier"
   ]
  },
  {
   "cell_type": "code",
   "execution_count": 22,
   "metadata": {},
   "outputs": [
    {
     "name": "stdout",
     "output_type": "stream",
     "text": [
      "测试集的准确率：0.9333333333333333\n"
     ]
    }
   ],
   "source": [
    "clf_3 = BaggingClassifier()\n",
    "parameters = {\n",
    "    'n_estimators': [9,10,11],\n",
    "}\n",
    "acc_scorer_3 = make_scorer(accuracy_score)\n",
    "grid_obj_3 = GridSearchCV(clf_3, parameters, scoring= acc_scorer, cv=6)\n",
    "grid_3 = grid_obj_3.fit(x_train_scaled, y_train_all)\n",
    "clf_3 = grid_3.best_estimator_\n",
    "clf_3 = clf_3.fit(x_train_scaled, y_train_all)\n",
    "test_prediction_3  = clf_3.predict(x_test_scaled)\n",
    "print(\"测试集的准确率：%s\" % accuracy_score(y_test, test_prediction_3))"
   ]
  }
 ],
 "metadata": {
  "kernelspec": {
   "display_name": "Python 3",
   "language": "python",
   "name": "python3"
  },
  "language_info": {
   "codemirror_mode": {
    "name": "ipython",
    "version": 3
   },
   "file_extension": ".py",
   "mimetype": "text/x-python",
   "name": "python",
   "nbconvert_exporter": "python",
   "pygments_lexer": "ipython3",
   "version": "3.7.3"
  }
 },
 "nbformat": 4,
 "nbformat_minor": 2
}
