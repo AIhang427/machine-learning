{
 "cells": [
  {
   "cell_type": "code",
   "execution_count": 2,
   "metadata": {},
   "outputs": [],
   "source": [
    "# 可以开始导入包\n",
    "import sklearn\n",
    "import matplotlib.pyplot as plt\n",
    "from tensorflow import keras\n",
    "from sklearn.datasets import load_digits\n",
    "from sklearn.model_selection import train_test_split\n",
    "from sklearn.preprocessing import StandardScaler\n",
    "import numpy as np\n",
    "import pandas as pd"
   ]
  },
  {
   "cell_type": "code",
   "execution_count": 3,
   "metadata": {},
   "outputs": [
    {
     "name": "stdout",
     "output_type": "stream",
     "text": [
      "(1797, 64)\n",
      "(1797,)\n"
     ]
    }
   ],
   "source": [
    "# 导入数据集\n",
    "digits = load_digits()\n",
    "x_data_all = digits.data\n",
    "y_data_all  = digits.target\n",
    "print(x_data_all.shape)\n",
    "print(y_data_all.shape)"
   ]
  },
  {
   "cell_type": "code",
   "execution_count": 4,
   "metadata": {},
   "outputs": [
    {
     "data": {
      "image/png": "[encoded data removed]",
      "text/plain": [
       "<Figure size 432x288 with 1 Axes>"
      ]
     },
     "metadata": {
      "needs_background": "light"
     },
     "output_type": "display_data"
    }
   ],
   "source": [
    "def show_single_img(img_arr):\n",
    "    plt.imshow(img_arr, cmap='gray')\n",
    "    plt.show()\n",
    "show_single_img(digits.images[0])"
   ]
  },
  {
   "cell_type": "code",
   "execution_count": 5,
   "metadata": {},
   "outputs": [
    {
     "name": "stdout",
     "output_type": "stream",
     "text": [
      "(1010, 64) (1010,)\n",
      "(337, 64) (337,)\n"
     ]
    }
   ],
   "source": [
    "# 划分数据集\n",
    "x_train_all, x_test, y_train_all, y_test = train_test_split(x_data_all, y_data_all, random_state=7)\n",
    "# 划分验证集\n",
    "x_train, x_valid, y_train,y_valid = train_test_split(\n",
    "        x_train_all, y_train_all, random_state = 11\n",
    ")\n",
    "print(x_train.shape,y_train.shape)\n",
    "print(x_valid.shape, y_valid.shape)"
   ]
  },
  {
   "cell_type": "code",
   "execution_count": 6,
   "metadata": {},
   "outputs": [],
   "source": [
    "# 归一化\n",
    "scaler = StandardScaler()\n",
    "x_train_scaled = scaler.fit_transform(x_train)\n",
    "x_valid_scaled = scaler.fit_transform(x_valid)\n",
    "x_test_scaled = scaler.fit_transform(x_test)"
   ]
  },
  {
   "cell_type": "code",
   "execution_count": 7,
   "metadata": {},
   "outputs": [],
   "source": [
    "# 定义网络结构\n",
    "model = keras.models.Sequential()\n",
    "model.add(keras.layers.Dense(30, input_shape = x_train.shape[1:]))\n",
    "# 深层的网络结构\n",
    "for _ in range(20):\n",
    "    model.add(keras.layers.Dense(100, activation = 'relu'))\n",
    "# 设置dropout\n",
    "              \n",
    "model.add(keras.layers.AlphaDropout(rate = 0.5))\n",
    "# 定义最后一层\n",
    "model.add(keras.layers.Dense(10, activation = 'softmax'))\n",
    "# 定义目标函数\n",
    "model.compile(loss = \"sparse_categorical_crossentropy\", optimizer =  \"sgd\",metrics = [\"accuracy\"])"
   ]
  },
  {
   "cell_type": "code",
   "execution_count": 8,
   "metadata": {},
   "outputs": [
    {
     "name": "stdout",
     "output_type": "stream",
     "text": [
      "Model: \"sequential\"\n",
      "_________________________________________________________________\n",
      "Layer (type)                 Output Shape              Param #   \n",
      "=================================================================\n",
      "dense (Dense)                (None, 30)                1950      \n",
      "_________________________________________________________________\n",
      "dense_1 (Dense)              (None, 100)               3100      \n",
      "_________________________________________________________________\n",
      "dense_2 (Dense)              (None, 100)               10100     \n",
      "_________________________________________________________________\n",
      "dense_3 (Dense)              (None, 100)               10100     \n",
      "_________________________________________________________________\n",
      "dense_4 (Dense)              (None, 100)               10100     \n",
      "_________________________________________________________________\n",
      "dense_5 (Dense)              (None, 100)               10100     \n",
      "_________________________________________________________________\n",
      "dense_6 (Dense)              (None, 100)               10100     \n",
      "_________________________________________________________________\n",
      "dense_7 (Dense)              (None, 100)               10100     \n",
      "_________________________________________________________________\n",
      "dense_8 (Dense)              (None, 100)               10100     \n",
      "_________________________________________________________________\n",
      "dense_9 (Dense)              (None, 100)               10100     \n",
      "_________________________________________________________________\n",
      "dense_10 (Dense)             (None, 100)               10100     \n",
      "_________________________________________________________________\n",
      "dense_11 (Dense)             (None, 100)               10100     \n",
      "_________________________________________________________________\n",
      "dense_12 (Dense)             (None, 100)               10100     \n",
      "_________________________________________________________________\n",
      "dense_13 (Dense)             (None, 100)               10100     \n",
      "_________________________________________________________________\n",
      "dense_14 (Dense)             (None, 100)               10100     \n",
      "_________________________________________________________________\n",
      "dense_15 (Dense)             (None, 100)               10100     \n",
      "_________________________________________________________________\n",
      "dense_16 (Dense)             (None, 100)               10100     \n",
      "_________________________________________________________________\n",
      "dense_17 (Dense)             (None, 100)               10100     \n",
      "_________________________________________________________________\n",
      "dense_18 (Dense)             (None, 100)               10100     \n",
      "_________________________________________________________________\n",
      "dense_19 (Dense)             (None, 100)               10100     \n",
      "_________________________________________________________________\n",
      "dense_20 (Dense)             (None, 100)               10100     \n",
      "_________________________________________________________________\n",
      "alpha_dropout (AlphaDropout) (None, 100)               0         \n",
      "_________________________________________________________________\n",
      "dense_21 (Dense)             (None, 10)                1010      \n",
      "=================================================================\n",
      "Total params: 197,960\n",
      "Trainable params: 197,960\n",
      "Non-trainable params: 0\n",
      "_________________________________________________________________\n"
     ]
    }
   ],
   "source": [
    "model.summary()"
   ]
  },
  {
   "cell_type": "code",
   "execution_count": 9,
   "metadata": {},
   "outputs": [
    {
     "name": "stdout",
     "output_type": "stream",
     "text": [
      "Train on 1010 samples, validate on 337 samples\n",
      "Epoch 1/100\n",
      "1010/1010 [==============================] - 4s 4ms/sample - loss: 2.7469 - accuracy: 0.1109 - val_loss: 2.3026 - val_accuracy: 0.1484\n",
      "Epoch 2/100\n",
      "1010/1010 [==============================] - 0s 222us/sample - loss: 2.7828 - accuracy: 0.0861 - val_loss: 2.3025 - val_accuracy: 0.1187\n",
      "Epoch 3/100\n",
      "1010/1010 [==============================] - 0s 211us/sample - loss: 2.7819 - accuracy: 0.1020 - val_loss: 2.3025 - val_accuracy: 0.1039\n",
      "Epoch 4/100\n",
      "1010/1010 [==============================] - 0s 227us/sample - loss: 2.6962 - accuracy: 0.1010 - val_loss: 2.3026 - val_accuracy: 0.0950\n",
      "Epoch 5/100\n",
      "1010/1010 [==============================] - 0s 218us/sample - loss: 2.6537 - accuracy: 0.1050 - val_loss: 2.3025 - val_accuracy: 0.1187\n",
      "Epoch 6/100\n",
      "1010/1010 [==============================] - 0s 212us/sample - loss: 2.7290 - accuracy: 0.0941 - val_loss: 2.3025 - val_accuracy: 0.1751\n",
      "Epoch 7/100\n",
      "1010/1010 [==============================] - 0s 259us/sample - loss: 2.6759 - accuracy: 0.1139 - val_loss: 2.3025 - val_accuracy: 0.1751\n",
      "Epoch 8/100\n",
      "1010/1010 [==============================] - 0s 209us/sample - loss: 2.6917 - accuracy: 0.1020 - val_loss: 2.3025 - val_accuracy: 0.0979\n",
      "Epoch 9/100\n",
      "1010/1010 [==============================] - 0s 208us/sample - loss: 2.6916 - accuracy: 0.0970 - val_loss: 2.3024 - val_accuracy: 0.0979\n",
      "Epoch 10/100\n",
      "1010/1010 [==============================] - 0s 212us/sample - loss: 2.6661 - accuracy: 0.1000 - val_loss: 2.3024 - val_accuracy: 0.0979\n",
      "Epoch 11/100\n",
      "1010/1010 [==============================] - 0s 211us/sample - loss: 2.6131 - accuracy: 0.1030 - val_loss: 2.3024 - val_accuracy: 0.0979\n",
      "Epoch 12/100\n",
      "1010/1010 [==============================] - 0s 213us/sample - loss: 2.6409 - accuracy: 0.0891 - val_loss: 2.3024 - val_accuracy: 0.0979\n",
      "Epoch 13/100\n",
      "1010/1010 [==============================] - 0s 207us/sample - loss: 2.6563 - accuracy: 0.0871 - val_loss: 2.3022 - val_accuracy: 0.0979\n",
      "Epoch 14/100\n",
      "1010/1010 [==============================] - 0s 214us/sample - loss: 2.6302 - accuracy: 0.1030 - val_loss: 2.3023 - val_accuracy: 0.0979\n",
      "Epoch 15/100\n",
      "1010/1010 [==============================] - 0s 212us/sample - loss: 2.5632 - accuracy: 0.1317 - val_loss: 2.3023 - val_accuracy: 0.0979\n",
      "Epoch 16/100\n",
      "1010/1010 [==============================] - 0s 211us/sample - loss: 2.6075 - accuracy: 0.1158 - val_loss: 2.3023 - val_accuracy: 0.0979\n",
      "Epoch 17/100\n",
      "1010/1010 [==============================] - 0s 215us/sample - loss: 2.5535 - accuracy: 0.1010 - val_loss: 2.3023 - val_accuracy: 0.0979\n",
      "Epoch 18/100\n",
      "1010/1010 [==============================] - 0s 214us/sample - loss: 2.5481 - accuracy: 0.1109 - val_loss: 2.3023 - val_accuracy: 0.0979\n",
      "Epoch 19/100\n",
      "1010/1010 [==============================] - 0s 216us/sample - loss: 2.5595 - accuracy: 0.1040 - val_loss: 2.3023 - val_accuracy: 0.0979\n",
      "Epoch 20/100\n",
      "1010/1010 [==============================] - 0s 217us/sample - loss: 2.6034 - accuracy: 0.0891 - val_loss: 2.3023 - val_accuracy: 0.0979\n",
      "Epoch 21/100\n",
      "1010/1010 [==============================] - 0s 216us/sample - loss: 2.5204 - accuracy: 0.1129 - val_loss: 2.3022 - val_accuracy: 0.0979\n",
      "Epoch 22/100\n",
      "1010/1010 [==============================] - 0s 221us/sample - loss: 2.5333 - accuracy: 0.0911 - val_loss: 2.3021 - val_accuracy: 0.0979\n",
      "Epoch 23/100\n",
      "1010/1010 [==============================] - 0s 210us/sample - loss: 2.5217 - accuracy: 0.1000 - val_loss: 2.3022 - val_accuracy: 0.0979\n",
      "Epoch 24/100\n",
      "1010/1010 [==============================] - 0s 213us/sample - loss: 2.4837 - accuracy: 0.1079 - val_loss: 2.3022 - val_accuracy: 0.0979\n",
      "Epoch 25/100\n",
      "1010/1010 [==============================] - 0s 207us/sample - loss: 2.4889 - accuracy: 0.0980 - val_loss: 2.3023 - val_accuracy: 0.0979\n",
      "Epoch 26/100\n",
      "1010/1010 [==============================] - 0s 221us/sample - loss: 2.5423 - accuracy: 0.1000 - val_loss: 2.3022 - val_accuracy: 0.0979\n",
      "Epoch 27/100\n",
      "1010/1010 [==============================] - 0s 212us/sample - loss: 2.4610 - accuracy: 0.1109 - val_loss: 2.3022 - val_accuracy: 0.0979\n",
      "Epoch 28/100\n",
      "1010/1010 [==============================] - 0s 215us/sample - loss: 2.4661 - accuracy: 0.1059 - val_loss: 2.3022 - val_accuracy: 0.0979\n",
      "Epoch 29/100\n",
      "1010/1010 [==============================] - 0s 222us/sample - loss: 2.4876 - accuracy: 0.0931 - val_loss: 2.3021 - val_accuracy: 0.0979\n",
      "Epoch 30/100\n",
      "1010/1010 [==============================] - 0s 220us/sample - loss: 2.4923 - accuracy: 0.0911 - val_loss: 2.3022 - val_accuracy: 0.0979\n",
      "Epoch 31/100\n",
      "1010/1010 [==============================] - 0s 213us/sample - loss: 2.4739 - accuracy: 0.0891 - val_loss: 2.3021 - val_accuracy: 0.0979\n",
      "Epoch 32/100\n",
      "1010/1010 [==============================] - 0s 223us/sample - loss: 2.4715 - accuracy: 0.0921 - val_loss: 2.3021 - val_accuracy: 0.0979\n",
      "Epoch 33/100\n",
      "1010/1010 [==============================] - 0s 214us/sample - loss: 2.4564 - accuracy: 0.0980 - val_loss: 2.3022 - val_accuracy: 0.0979\n",
      "Epoch 34/100\n",
      "1010/1010 [==============================] - 0s 214us/sample - loss: 2.4372 - accuracy: 0.0881 - val_loss: 2.3023 - val_accuracy: 0.0979\n",
      "Epoch 35/100\n",
      "1010/1010 [==============================] - 0s 212us/sample - loss: 2.4803 - accuracy: 0.0941 - val_loss: 2.3022 - val_accuracy: 0.0979\n",
      "Epoch 36/100\n",
      "1010/1010 [==============================] - 0s 223us/sample - loss: 2.4592 - accuracy: 0.0792 - val_loss: 2.3022 - val_accuracy: 0.0979\n",
      "Epoch 37/100\n",
      "1010/1010 [==============================] - 0s 215us/sample - loss: 2.4179 - accuracy: 0.0950 - val_loss: 2.3022 - val_accuracy: 0.0979\n",
      "Epoch 38/100\n",
      "1010/1010 [==============================] - 0s 209us/sample - loss: 2.4268 - accuracy: 0.1099 - val_loss: 2.3024 - val_accuracy: 0.0979\n",
      "Epoch 39/100\n",
      "1010/1010 [==============================] - 0s 212us/sample - loss: 2.4212 - accuracy: 0.1109 - val_loss: 2.3023 - val_accuracy: 0.0979\n",
      "Epoch 40/100\n",
      "1010/1010 [==============================] - 0s 220us/sample - loss: 2.4114 - accuracy: 0.1069 - val_loss: 2.3023 - val_accuracy: 0.0979\n",
      "Epoch 41/100\n",
      "1010/1010 [==============================] - 0s 214us/sample - loss: 2.4338 - accuracy: 0.0960 - val_loss: 2.3023 - val_accuracy: 0.0979\n",
      "Epoch 42/100\n",
      "1010/1010 [==============================] - 0s 210us/sample - loss: 2.4169 - accuracy: 0.0980 - val_loss: 2.3023 - val_accuracy: 0.0979\n",
      "Epoch 43/100\n",
      "1010/1010 [==============================] - 0s 213us/sample - loss: 2.4061 - accuracy: 0.1050 - val_loss: 2.3022 - val_accuracy: 0.1187\n",
      "Epoch 44/100\n",
      "1010/1010 [==============================] - 0s 204us/sample - loss: 2.4280 - accuracy: 0.0881 - val_loss: 2.3022 - val_accuracy: 0.1246\n",
      "Epoch 45/100\n",
      "1010/1010 [==============================] - 0s 220us/sample - loss: 2.4111 - accuracy: 0.0891 - val_loss: 2.3022 - val_accuracy: 0.1335\n",
      "Epoch 46/100\n",
      "1010/1010 [==============================] - 0s 217us/sample - loss: 2.3911 - accuracy: 0.1000 - val_loss: 2.3021 - val_accuracy: 0.1335\n",
      "Epoch 47/100\n",
      "1010/1010 [==============================] - 0s 222us/sample - loss: 2.3968 - accuracy: 0.1000 - val_loss: 2.3022 - val_accuracy: 0.1217\n",
      "Epoch 48/100\n",
      "1010/1010 [==============================] - 0s 205us/sample - loss: 2.4022 - accuracy: 0.1010 - val_loss: 2.3021 - val_accuracy: 0.1424\n",
      "Epoch 49/100\n",
      "1010/1010 [==============================] - 0s 211us/sample - loss: 2.3796 - accuracy: 0.1129 - val_loss: 2.3020 - val_accuracy: 0.1454\n",
      "Epoch 50/100\n",
      "1010/1010 [==============================] - 0s 215us/sample - loss: 2.3973 - accuracy: 0.0990 - val_loss: 2.3021 - val_accuracy: 0.1246\n",
      "Epoch 51/100\n",
      "1010/1010 [==============================] - 0s 214us/sample - loss: 2.4113 - accuracy: 0.0792 - val_loss: 2.3021 - val_accuracy: 0.1276\n",
      "Epoch 52/100\n",
      "1010/1010 [==============================] - 0s 214us/sample - loss: 2.3776 - accuracy: 0.1020 - val_loss: 2.3021 - val_accuracy: 0.1246\n",
      "Epoch 53/100\n",
      "1010/1010 [==============================] - 0s 231us/sample - loss: 2.3778 - accuracy: 0.0950 - val_loss: 2.3022 - val_accuracy: 0.1246\n",
      "Epoch 54/100\n",
      "1010/1010 [==============================] - 0s 214us/sample - loss: 2.3838 - accuracy: 0.1040 - val_loss: 2.3022 - val_accuracy: 0.1246\n",
      "Epoch 55/100\n"
     ]
    },
    {
     "name": "stdout",
     "output_type": "stream",
     "text": [
      "1010/1010 [==============================] - 0s 220us/sample - loss: 2.3587 - accuracy: 0.1168 - val_loss: 2.3021 - val_accuracy: 0.1335\n",
      "Epoch 56/100\n",
      "1010/1010 [==============================] - 0s 214us/sample - loss: 2.3609 - accuracy: 0.0960 - val_loss: 2.3022 - val_accuracy: 0.1246\n",
      "Epoch 57/100\n",
      "1010/1010 [==============================] - 0s 216us/sample - loss: 2.3613 - accuracy: 0.1000 - val_loss: 2.3021 - val_accuracy: 0.1395\n",
      "Epoch 58/100\n",
      "1010/1010 [==============================] - 0s 218us/sample - loss: 2.3521 - accuracy: 0.1059 - val_loss: 2.3021 - val_accuracy: 0.1306\n",
      "Epoch 59/100\n",
      "1010/1010 [==============================] - 0s 214us/sample - loss: 2.3427 - accuracy: 0.1168 - val_loss: 2.3021 - val_accuracy: 0.1276\n",
      "Epoch 60/100\n",
      "1010/1010 [==============================] - 0s 208us/sample - loss: 2.3625 - accuracy: 0.1059 - val_loss: 2.3020 - val_accuracy: 0.1276\n",
      "Epoch 61/100\n",
      "1010/1010 [==============================] - 0s 207us/sample - loss: 2.3632 - accuracy: 0.0980 - val_loss: 2.3019 - val_accuracy: 0.1306\n",
      "Epoch 62/100\n",
      "1010/1010 [==============================] - 0s 220us/sample - loss: 2.3549 - accuracy: 0.1000 - val_loss: 2.3019 - val_accuracy: 0.1276\n",
      "Epoch 63/100\n",
      "1010/1010 [==============================] - 0s 215us/sample - loss: 2.3503 - accuracy: 0.1208 - val_loss: 2.3019 - val_accuracy: 0.1306\n",
      "Epoch 64/100\n",
      "1010/1010 [==============================] - 0s 211us/sample - loss: 2.3460 - accuracy: 0.1020 - val_loss: 2.3019 - val_accuracy: 0.1276\n",
      "Epoch 65/100\n",
      "1010/1010 [==============================] - 0s 216us/sample - loss: 2.3548 - accuracy: 0.0931 - val_loss: 2.3018 - val_accuracy: 0.1276\n",
      "Epoch 66/100\n",
      "1010/1010 [==============================] - 0s 213us/sample - loss: 2.3684 - accuracy: 0.0980 - val_loss: 2.3019 - val_accuracy: 0.1217\n",
      "Epoch 67/100\n",
      "1010/1010 [==============================] - 0s 213us/sample - loss: 2.3611 - accuracy: 0.0842 - val_loss: 2.3019 - val_accuracy: 0.1187\n",
      "Epoch 68/100\n",
      "1010/1010 [==============================] - 0s 206us/sample - loss: 2.3570 - accuracy: 0.0861 - val_loss: 2.3019 - val_accuracy: 0.1187\n",
      "Epoch 69/100\n",
      "1010/1010 [==============================] - 0s 217us/sample - loss: 2.3468 - accuracy: 0.1030 - val_loss: 2.3019 - val_accuracy: 0.1276\n",
      "Epoch 70/100\n",
      "1010/1010 [==============================] - 0s 218us/sample - loss: 2.3316 - accuracy: 0.1129 - val_loss: 2.3018 - val_accuracy: 0.1365\n",
      "Epoch 71/100\n",
      "1010/1010 [==============================] - 0s 212us/sample - loss: 2.3481 - accuracy: 0.0921 - val_loss: 2.3019 - val_accuracy: 0.1276\n",
      "Epoch 72/100\n",
      "1010/1010 [==============================] - 0s 212us/sample - loss: 2.3321 - accuracy: 0.0921 - val_loss: 2.3018 - val_accuracy: 0.1276\n",
      "Epoch 73/100\n",
      "1010/1010 [==============================] - 0s 212us/sample - loss: 2.3350 - accuracy: 0.1059 - val_loss: 2.3018 - val_accuracy: 0.1276\n",
      "Epoch 74/100\n",
      "1010/1010 [==============================] - 0s 213us/sample - loss: 2.3400 - accuracy: 0.1040 - val_loss: 2.3018 - val_accuracy: 0.1365\n",
      "Epoch 75/100\n",
      "1010/1010 [==============================] - 0s 220us/sample - loss: 2.3261 - accuracy: 0.0832 - val_loss: 2.3017 - val_accuracy: 0.1454\n",
      "Epoch 76/100\n",
      "1010/1010 [==============================] - 0s 233us/sample - loss: 2.3321 - accuracy: 0.1158 - val_loss: 2.3017 - val_accuracy: 0.1454\n",
      "Epoch 77/100\n",
      "1010/1010 [==============================] - 0s 209us/sample - loss: 2.3466 - accuracy: 0.0950 - val_loss: 2.3017 - val_accuracy: 0.1484\n",
      "Epoch 78/100\n",
      "1010/1010 [==============================] - 0s 216us/sample - loss: 2.3343 - accuracy: 0.1059 - val_loss: 2.3016 - val_accuracy: 0.1543\n",
      "Epoch 79/100\n",
      "1010/1010 [==============================] - 0s 214us/sample - loss: 2.3326 - accuracy: 0.1089 - val_loss: 2.3017 - val_accuracy: 0.1602\n",
      "Epoch 80/100\n",
      "1010/1010 [==============================] - 0s 220us/sample - loss: 2.3407 - accuracy: 0.0871 - val_loss: 2.3017 - val_accuracy: 0.1573\n",
      "Epoch 81/100\n",
      "1010/1010 [==============================] - 0s 209us/sample - loss: 2.3331 - accuracy: 0.1010 - val_loss: 2.3017 - val_accuracy: 0.1573\n",
      "Epoch 82/100\n",
      "1010/1010 [==============================] - 0s 220us/sample - loss: 2.3341 - accuracy: 0.0980 - val_loss: 2.3016 - val_accuracy: 0.1602\n",
      "Epoch 83/100\n",
      "1010/1010 [==============================] - 0s 218us/sample - loss: 2.3341 - accuracy: 0.0911 - val_loss: 2.3016 - val_accuracy: 0.1632\n",
      "Epoch 84/100\n",
      "1010/1010 [==============================] - 0s 212us/sample - loss: 2.3332 - accuracy: 0.0891 - val_loss: 2.3016 - val_accuracy: 0.1721\n",
      "Epoch 85/100\n",
      "1010/1010 [==============================] - 0s 206us/sample - loss: 2.3219 - accuracy: 0.1079 - val_loss: 2.3017 - val_accuracy: 0.1721\n",
      "Epoch 86/100\n",
      "1010/1010 [==============================] - 0s 206us/sample - loss: 2.3214 - accuracy: 0.1208 - val_loss: 2.3017 - val_accuracy: 0.1721\n",
      "Epoch 87/100\n",
      "1010/1010 [==============================] - 0s 210us/sample - loss: 2.3356 - accuracy: 0.0891 - val_loss: 2.3017 - val_accuracy: 0.1721\n",
      "Epoch 88/100\n",
      "1010/1010 [==============================] - 0s 206us/sample - loss: 2.3311 - accuracy: 0.0990 - val_loss: 2.3017 - val_accuracy: 0.1721\n",
      "Epoch 89/100\n",
      "1010/1010 [==============================] - 0s 209us/sample - loss: 2.3190 - accuracy: 0.1030 - val_loss: 2.3017 - val_accuracy: 0.1721\n",
      "Epoch 90/100\n",
      "1010/1010 [==============================] - 0s 217us/sample - loss: 2.3194 - accuracy: 0.1149 - val_loss: 2.3016 - val_accuracy: 0.1721\n",
      "Epoch 91/100\n",
      "1010/1010 [==============================] - 0s 205us/sample - loss: 2.3129 - accuracy: 0.1307 - val_loss: 2.3016 - val_accuracy: 0.1721\n",
      "Epoch 92/100\n",
      "1010/1010 [==============================] - 0s 211us/sample - loss: 2.3137 - accuracy: 0.1168 - val_loss: 2.3015 - val_accuracy: 0.1751\n",
      "Epoch 93/100\n",
      "1010/1010 [==============================] - 0s 215us/sample - loss: 2.3216 - accuracy: 0.0970 - val_loss: 2.3015 - val_accuracy: 0.1751\n",
      "Epoch 94/100\n",
      "1010/1010 [==============================] - 0s 215us/sample - loss: 2.3202 - accuracy: 0.0921 - val_loss: 2.3014 - val_accuracy: 0.1721\n",
      "Epoch 95/100\n",
      "1010/1010 [==============================] - 0s 221us/sample - loss: 2.3203 - accuracy: 0.0871 - val_loss: 2.3014 - val_accuracy: 0.1721\n",
      "Epoch 96/100\n",
      "1010/1010 [==============================] - 0s 217us/sample - loss: 2.3165 - accuracy: 0.1040 - val_loss: 2.3013 - val_accuracy: 0.1721\n",
      "Epoch 97/100\n",
      "1010/1010 [==============================] - 0s 211us/sample - loss: 2.3149 - accuracy: 0.0990 - val_loss: 2.3013 - val_accuracy: 0.1721\n",
      "Epoch 98/100\n",
      "1010/1010 [==============================] - 0s 214us/sample - loss: 2.3237 - accuracy: 0.0861 - val_loss: 2.3012 - val_accuracy: 0.1721\n",
      "Epoch 99/100\n",
      "1010/1010 [==============================] - 0s 218us/sample - loss: 2.3130 - accuracy: 0.1079 - val_loss: 2.3012 - val_accuracy: 0.1721\n",
      "Epoch 100/100\n",
      "1010/1010 [==============================] - 0s 211us/sample - loss: 2.3112 - accuracy: 0.1158 - val_loss: 2.3012 - val_accuracy: 0.1721\n"
     ]
    }
   ],
   "source": [
    "history = model.fit(x_train_scaled, y_train, epochs = 100,\n",
    "                   validation_data= (x_valid_scaled , y_valid))"
   ]
  },
  {
   "cell_type": "code",
   "execution_count": 12,
   "metadata": {},
   "outputs": [
    {
     "data": {
      "image/png": "[encoded data removed]",
      "text/plain": [
       "<Figure size 576x360 with 1 Axes>"
      ]
     },
     "metadata": {
      "needs_background": "light"
     },
     "output_type": "display_data"
    }
   ],
   "source": [
    "def plt_learning_curve(history):\n",
    "    pd.DataFrame(history.history).plot(figsize=(8,5))\n",
    "    plt.grid(True)\n",
    "    plt.gca().set_ylim(0,3)\n",
    "    plt.show()\n",
    "plt_learning_curve(history)"
   ]
  }
 ],
 "metadata": {
  "kernelspec": {
   "display_name": "Python 3",
   "language": "python",
   "name": "python3"
  },
  "language_info": {
   "codemirror_mode": {
    "name": "ipython",
    "version": 3
   },
   "file_extension": ".py",
   "mimetype": "text/x-python",
   "name": "python",
   "nbconvert_exporter": "python",
   "pygments_lexer": "ipython3",
   "version": "3.7.3"
  }
 },
 "nbformat": 4,
 "nbformat_minor": 2
}
